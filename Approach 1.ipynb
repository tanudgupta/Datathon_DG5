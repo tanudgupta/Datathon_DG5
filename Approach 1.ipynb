{
 "metadata": {
  "kernelspec": {
   "display_name": "Streamlit Notebook",
   "name": "streamlit"
  },
  "lastEditStatus": {
   "notebookId": "4zm7g6aso3ohdwi3fumx",
   "authorId": "6276428134692",
   "authorName": "TANU_D_GUPTA",
   "authorEmail": "",
   "sessionId": "0d7a041e-2eea-48b0-94f3-8638fd072501",
   "lastEditTime": 1751064346664
  }
 },
 "nbformat_minor": 5,
 "nbformat": 4,
 "cells": [
  {
   "cell_type": "code",
   "id": "3775908f-ca36-4846-8f38-5adca39217f2",
   "metadata": {
    "language": "python",
    "name": "cell1"
   },
   "source": "# We can also use Snowpark for our analyses!\nfrom snowflake.snowpark.context import get_active_session\nsession = get_active_session()\nfrom snowflake.snowpark.functions import col",
   "execution_count": null,
   "outputs": []
  },
  {
   "cell_type": "code",
   "id": "8d50cbf4-0c8d-4950-86cb-114990437ac9",
   "metadata": {
    "language": "python",
    "name": "cell2"
   },
   "source": "# Import python packages\n#%pip install <tabulate>\nimport streamlit as st\nimport pandas as pd\nimport altair as alt\nfrom tabulate import tabulate\nimport matplotlib.pyplot as plt\nimport seaborn as sns",
   "execution_count": null,
   "outputs": []
  },
  {
   "cell_type": "code",
   "id": "7075ff6b-8ff0-4630-bede-24e3ca28462e",
   "metadata": {
    "language": "sql",
    "name": "cell3"
   },
   "outputs": [],
   "source": "SELECT rc.NAME as RACE,rc.YEAR,rc.ROUND,rc.CIRCUITID,C.NAME AS CONSTRUCTOR,CONCAT(D.FORENAME,' ',D.SURNAME) AS DRIVER,RS.LAPS,S.STATUS,RS.POSITION,RS.MILLISECONDS,RS.POINTS\nFROM PLAYGROUND.DATATHON.RACES rc\nleft join playground.datathon.RESULTS rs on rs.raceid = rc.raceid\nleft join playground.datathon.status s on rs.statusid = s.statusid\nleft join playground.datathon.constructors c on rs.constructorid = c.constructorid\nleft join playground.datathon.drivers d on rs.driverid = d.driverid",
   "execution_count": null
  },
  {
   "cell_type": "code",
   "id": "9ecd4970-7dbe-4485-8faf-48cc5e06de8f",
   "metadata": {
    "language": "python",
    "name": "cell8"
   },
   "outputs": [],
   "source": "dg5_df1 = cell3.to_pandas()\n\n#Missing values \nmissing = dg5_df1.isnull().sum()\nprint(\"Missing Values :\\n\", missing)",
   "execution_count": null
  },
  {
   "cell_type": "code",
   "id": "c695373e-ac74-4b62-a1f1-08206cbd5c81",
   "metadata": {
    "language": "python",
    "name": "cell4"
   },
   "source": "#Cleanse the data by removing the missing values\n#dg5_df1 = cell3.to_pandas()\ndg5_df1 = dg5_df1.dropna(subset=[\"POSITION\",\"MILLISECONDS\"])\n\n#table=tabulate(dg5_df1.values,headers=dg5_df1.columns,tablefmt='grid')\n#output_file = \"C:\\\\Users\\\\tanu.d.gupta\\\\clean_races.csv\"\n#dg5_df1.to_csv(output_file, index=False)\n#print(f\"Query output saved to {output_file}\")\n#print(table)\n",
   "execution_count": null,
   "outputs": []
  },
  {
   "cell_type": "code",
   "id": "a407bbeb-6cf2-44e0-abc2-750108ca8bcc",
   "metadata": {
    "language": "python",
    "name": "cell10"
   },
   "outputs": [],
   "source": "# Verify Missing values \nmissing1 = dg5_df1.isnull().sum()\nprint(\"Missing Values :/n\", missing1)",
   "execution_count": null
  },
  {
   "cell_type": "code",
   "id": "d503cb21-14c3-4c2b-b0c3-b678f68db7a9",
   "metadata": {
    "language": "python",
    "name": "cell6"
   },
   "outputs": [],
   "source": "dg5_df1.info()",
   "execution_count": null
  },
  {
   "cell_type": "code",
   "id": "af1de3da-12d8-47c5-bb5c-27443f2af120",
   "metadata": {
    "language": "python",
    "name": "cell7"
   },
   "outputs": [],
   "source": "dg5_df1.describe()",
   "execution_count": null
  },
  {
   "cell_type": "code",
   "id": "80fa6866-5f24-43ee-ba4d-c83b01f5a57e",
   "metadata": {
    "language": "python",
    "name": "cell9"
   },
   "outputs": [],
   "source": "#Average points by Constructor\navg_pts_constructor = dg5_df1.groupby(\"CONSTRUCTOR\")[\"POINTS\"].mean().sort_values(ascending=False)\nprint(\"Avg points of a constructor:\\n\", avg_pts_constructor)",
   "execution_count": null
  },
  {
   "cell_type": "code",
   "id": "0d46d534-15f4-4932-b7b8-52c9db851a44",
   "metadata": {
    "language": "python",
    "name": "cell11"
   },
   "outputs": [],
   "source": "#Average Laps by Driver\ntotal_points_driver = dg5_df1.groupby(\"DRIVER\")[\"POINTS\"].sum().sort_values(ascending=False)\nprint(\"Total Points by a Driver:\\n\", total_points_driver)",
   "execution_count": null
  },
  {
   "cell_type": "code",
   "id": "b3576965-6af0-438e-953f-abce4453b310",
   "metadata": {
    "language": "python",
    "name": "cell13"
   },
   "outputs": [],
   "source": "#Bar chart for averagee points\navg_pts_constructor.head(10).plot(kind=\"bar\", figsize=(10, 5), title=\"Top Constructors by Average points\", ylabel=\"POINTS\")\nplt.grid(True)\nplt.show()",
   "execution_count": null
  },
  {
   "cell_type": "code",
   "id": "37fc9f29-1785-41f2-a5e7-513fbc0223a3",
   "metadata": {
    "language": "python",
    "name": "cell14"
   },
   "outputs": [],
   "source": "#Bar chart for Top Drivers\ntotal_points_driver.head(10).plot(kind=\"bar\", figsize=(10, 5), title=\"Top Drivers securing highest points\", ylabel=\"POINTS\")\nplt.grid(True)\nplt.show()",
   "execution_count": null
  },
  {
   "cell_type": "code",
   "id": "a8bc56da-df0b-46e9-9cba-9e66da034f86",
   "metadata": {
    "language": "python",
    "name": "cell15"
   },
   "outputs": [],
   "source": "dg5_df1['MILLISECONDS'].median()",
   "execution_count": null
  },
  {
   "cell_type": "code",
   "id": "1629aeca-d100-45c4-8b6e-94a293db9b2d",
   "metadata": {
    "language": "python",
    "name": "cell12"
   },
   "outputs": [],
   "source": "dg5_df1['MILLISECONDS'].std()",
   "execution_count": null
  },
  {
   "cell_type": "code",
   "id": "985334ad-2d02-49b9-b328-ca7d79bb7644",
   "metadata": {
    "language": "python",
    "name": "cell16"
   },
   "outputs": [],
   "source": "plt.figure(figsize=(10,6))\nsns.histplot(dg5_df1['MILLISECONDS'].dropna())",
   "execution_count": null
  },
  {
   "cell_type": "code",
   "id": "e368868d-f940-416f-8111-a9f6b7521f3d",
   "metadata": {
    "language": "python",
    "name": "cell5"
   },
   "outputs": [],
   "source": "\n# Histograms (this gives us a quick diagnostic of data—such as whether values are skewed, normally distributed, or have outliers.)\ndg5_df1.hist(bins=20, figsize=(10, 6))\nplt.suptitle(\"Feature Distributions\")\nplt.tight_layout()\nplt.show()",
   "execution_count": null
  },
  {
   "cell_type": "code",
   "id": "ab32bffb-cf66-4128-9896-3118ea6b0c47",
   "metadata": {
    "language": "python",
    "name": "cell17"
   },
   "outputs": [],
   "source": "# Histograms (this gives us a quick diagnostic of data—such as whether values are skewed, normally distributed, or have outliers.)\nplt.figure(figsize=(10, 6))\nsns.histplot(dg5_df1['MILLISECONDS'].dropna(), bins=20, kde=True, color='purple')\nplt.title(\"Lap time Distributions\")\nplt.xlabel('Lap time (MS)')\nplt.ylabel('Frequency')\nplt.grid(True)\nplt.show()",
   "execution_count": null
  },
  {
   "cell_type": "code",
   "id": "aa53dda9-fd5d-4275-b320-23729ba1a1d8",
   "metadata": {
    "language": "python",
    "name": "cell18"
   },
   "outputs": [],
   "source": "# Box plot for constructor comparision\nplt.figure(figsize=(12, 6))\nsns.boxplot(x='CONSTRUCTOR', y='MILLISECONDS', data=dg5_df1, hue='CONSTRUCTOR', palette='Set2', legend=False)\nplt.xticks(rotation=45)\nplt.title(\"Lap time Distributions by COnstructors\")\nplt.ylabel('Lap time (MS)')\nplt.show()",
   "execution_count": null
  },
  {
   "cell_type": "code",
   "id": "e01de04a-2a61-4b73-8703-4d3496e1c6b9",
   "metadata": {
    "language": "python",
    "name": "cell19"
   },
   "outputs": [],
   "source": "#Top constructors vs Lap time\n\ntop_20 = dg5_df1['CONSTRUCTOR'].value_counts().nlargest(20).index\ndf_top_20 = dg5_df1[dg5_df1['CONSTRUCTOR'].isin(top_20)]\n\nplt.figure(figsize=(12, 6))\nsns.boxplot(\n    data=df_top_20,\n    x='CONSTRUCTOR',\n    y='MILLISECONDS',\n    hue='CONSTRUCTOR',\n    palette='Set2',\n    legend=False\n)\nplt.xticks(rotation=45)\nplt.title('Top 20 Constructors vs. Lap Time (Milliseconds)')\nplt.tight_layout()\nplt.show()",
   "execution_count": null
  },
  {
   "cell_type": "code",
   "id": "83ec86f3-2b50-45cf-9898-a73f721c3dd4",
   "metadata": {
    "language": "python",
    "name": "cell20"
   },
   "outputs": [],
   "source": "#Lap time over Race laps\n#This will help in analysing performance consistency across the race\n\ndg5_df1['LAPS']=pd.to_numeric(dg5_df1['LAPS'], errors='coerce')\n\ndf_filtered = dg5_df1[dg5_df1['CONSTRUCTOR'].isin(['McLaren','Mercedes'])]\n\nplt.figure(figsize=(14, 6))\nsns.lineplot(\n    data=df_filtered,\n    x='LAPS',\n    y='MILLISECONDS',\n    hue='CONSTRUCTOR',\n    estimator='mean',\n    errorbar=None,\n    palette='Set2',\n    legend=False\n)\nplt.title('Average Lap Time per Lap : McLaren vs Mercedes')\nplt.xlabel('Lap Number')\nplt.ylabel('Lap Time (ms)')\nplt.grid(True)\nplt.tight_layout()\nplt.show()\n",
   "execution_count": null
  },
  {
   "cell_type": "markdown",
   "id": "8f39e5f7-77ea-4ac4-bc63-d8644e6bdec6",
   "metadata": {
    "name": "cell21",
    "collapsed": false
   },
   "source": "Feature Engineering"
  },
  {
   "cell_type": "code",
   "id": "d7b64506-4c51-4f23-8536-d5ba109c2607",
   "metadata": {
    "language": "python",
    "name": "cell22"
   },
   "outputs": [],
   "source": "#Create new columns\n#Avg_speed from millisec and lap distance\n#Assume each lap is 5.8km\n\ndf_fe_clean = dg5_df1[dg5_df1['MILLISECONDS'] > 0]\n\n#Create new column avg_speed_kmph\ndf_fe_clean['AVG_SPEED_KMPH'] = (5.8 / (df_fe_clean['MILLISECONDS'] / 1000)) * 3600\ndf_fe_clean[['LAPS','CONSTRUCTOR','MILLISECONDS', 'AVG_SPEED_KMPH']].head(10)\n",
   "execution_count": null
  },
  {
   "cell_type": "code",
   "id": "4ffa9443-cb5b-4430-95e1-b67d880bf8f4",
   "metadata": {
    "language": "python",
    "name": "cell23"
   },
   "outputs": [],
   "source": "#Encode categorical variables\n# One-Hot Encode Constructor name (for ML models)\ndf_encoded = pd.get_dummies(df_fe_clean, columns=['CONSTRUCTOR'], prefix='make')\ndf_encoded.head()",
   "execution_count": null
  },
  {
   "cell_type": "code",
   "id": "a79401ee-44e1-4e37-acb7-516b62c2fca4",
   "metadata": {
    "language": "python",
    "name": "cell24"
   },
   "outputs": [],
   "source": "#Identify top 20 constructors\ntop_makes = df_fe_clean['CONSTRUCTOR'].value_counts().nlargest(20).index\n\n#Create a mask column to idenstidy top makes and categorize rest as others\ndf_fe_clean['CONSTRUCTOR_TOP'] = df_fe_clean['CONSTRUCTOR'].apply(\n    lambda x: x if x in top_makes else 'Other'\n)\n\n#\ndf_encoded = pd.get_dummies(df_fe_clean, columns=['CONSTRUCTOR_TOP'], prefix='make', drop_first=True)\n",
   "execution_count": null
  },
  {
   "cell_type": "code",
   "id": "28ea98b9-4d45-4af4-bc9c-fabdf2adc03c",
   "metadata": {
    "language": "python",
    "name": "cell25"
   },
   "outputs": [],
   "source": "from sklearn.preprocessing import LabelEncoder\n\nle = LabelEncoder()\ndg5_df1['Constructor_encoded'] = le.fit_transform(dg5_df1['CONSTRUCTOR'].astype(str))\ndg5_df1[['CONSTRUCTOR', 'Constructor_encoded']].drop_duplicates().head(10)",
   "execution_count": null
  },
  {
   "cell_type": "code",
   "id": "1be9f813-0893-447f-bf8e-896ad94d908f",
   "metadata": {
    "language": "python",
    "name": "cell26"
   },
   "outputs": [],
   "source": "#Handle missing values\n\ndg5_df1.isnull().sum()\n\ndg5_df1['MILLISECONDS'] = dg5_df1['MILLISECONDS'].fillna(dg5_df1['MILLISECONDS'].median())\ndg5_df1['AVG_SPEED_KMPH'] = df_fe_clean['AVG_SPEED_KMPH'].fillna(df_fe_clean['AVG_SPEED_KMPH'].median())\n",
   "execution_count": null
  },
  {
   "cell_type": "code",
   "id": "55607987-8141-4698-9f3c-83166c05d835",
   "metadata": {
    "language": "python",
    "name": "cell27"
   },
   "outputs": [],
   "source": "#Feature correlation\n\nplt.figure(figsize=(10,6))\nsns.heatmap(dg5_df1[['MILLISECONDS', 'AVG_SPEED_KMPH', 'POINTS']].corr(), annot=True, cmap='coolwarm')\nplt.title('Feature correlation matrix')\nplt.show()",
   "execution_count": null
  },
  {
   "cell_type": "code",
   "id": "2dce2ab4-9d5a-4dfc-b8da-66075e25dcdb",
   "metadata": {
    "language": "python",
    "name": "cell28"
   },
   "outputs": [],
   "source": "x = dg5_df1[['CONSTRUCTOR','DRIVER','LAPS']]\ny= dg5_df1['MILLISECONDS']",
   "execution_count": null
  },
  {
   "cell_type": "code",
   "id": "273304bb-94de-40dc-a97a-cf4c13c6fcde",
   "metadata": {
    "language": "python",
    "name": "cell29"
   },
   "outputs": [],
   "source": "from sklearn.compose import ColumnTransformer\nfrom sklearn.preprocessing import OneHotEncoder, StandardScaler\n\n#Categorical and numerical columns\ncat_features = ['CONSTRUCTOR','DRIVER']\nnum_features = ['LAPS']\n\n#ColumnTransformer\npreprocessor = ColumnTransformer(\n    transformers=[\n        ('cat', OneHotEncoder(handle_unknown='ignore').cat_features),\n        ('num', StandardScaler(),num_features)\n    ]\n)\n",
   "execution_count": null
  },
  {
   "cell_type": "code",
   "id": "10c81d3a-8b7d-4945-86a5-657d6b69a165",
   "metadata": {
    "language": "python",
    "name": "cell30"
   },
   "outputs": [],
   "source": "#Create the pipeline\nfrom sklearn.pipeline import Pipeline\nfrom sklearn.linear_model import LinearRegression\n\nmodel_pipeline = Pipeline(steps=[\n    ('preprocessing', preprocessor),\n    ('regressor',LinearRegression())\n])",
   "execution_count": null
  },
  {
   "cell_type": "code",
   "id": "33f4e7ac-d258-4253-aae6-dd46a52a0750",
   "metadata": {
    "language": "python",
    "name": "cell31"
   },
   "outputs": [],
   "source": "#Train the pipeline\n\nmodel_pipleline.fit(X,y)",
   "execution_count": null
  },
  {
   "cell_type": "code",
   "id": "b1104bd0-15d2-462f-8b48-9b3a17c3662d",
   "metadata": {
    "language": "python",
    "name": "cell32"
   },
   "outputs": [],
   "source": "# Make predictions\npreds = model_pipeline.predict(X.head())\nprint(\"Predicted lap time\",preds)",
   "execution_count": null
  },
  {
   "cell_type": "code",
   "id": "1963de41-d9c1-453c-9403-e716c1679e7a",
   "metadata": {
    "language": "python",
    "name": "cell33"
   },
   "outputs": [],
   "source": "#Evaluate Model (r2)\nfrom sklearn.metrics import r2_score\n\nr2 = r2_score(y, model_pipeline.predict(X))\nprint(f\"R2 score: {r2:.3f}\")",
   "execution_count": null
  },
  {
   "cell_type": "code",
   "id": "9f06ef2c-0303-4ec4-b290-460e09bbdd7a",
   "metadata": {
    "language": "sql",
    "name": "cell34"
   },
   "outputs": [],
   "source": "select * from playground.datathon.circuits",
   "execution_count": null
  }
 ]
}