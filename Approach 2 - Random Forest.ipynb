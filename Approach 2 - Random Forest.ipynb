{
 "metadata": {
  "kernelspec": {
   "display_name": "Streamlit Notebook",
   "name": "streamlit"
  },
  "lastEditStatus": {
   "notebookId": "alxxbxz7y56ysnlkyeve",
   "authorId": "6276428134692",
   "authorName": "TANU_D_GUPTA",
   "authorEmail": "",
   "sessionId": "25573ea8-a1fa-40aa-bec7-c2737d9913af",
   "lastEditTime": 1751060448394
  }
 },
 "nbformat_minor": 5,
 "nbformat": 4,
 "cells": [
  {
   "cell_type": "code",
   "id": "3775908f-ca36-4846-8f38-5adca39217f2",
   "metadata": {
    "language": "python",
    "name": "cell1"
   },
   "source": "# Import python packages\nimport streamlit as st\nimport pandas as pd\n\n# We can also use Snowpark for our analyses!\nfrom snowflake.snowpark.context import get_active_session\nsession = get_active_session()\n",
   "execution_count": null,
   "outputs": []
  },
  {
   "cell_type": "code",
   "id": "8d50cbf4-0c8d-4950-86cb-114990437ac9",
   "metadata": {
    "language": "sql",
    "name": "results"
   },
   "source": "select * from playground.datathon.results",
   "execution_count": null,
   "outputs": []
  },
  {
   "cell_type": "code",
   "id": "c695373e-ac74-4b62-a1f1-08206cbd5c81",
   "metadata": {
    "language": "sql",
    "name": "drivers"
   },
   "source": "select * from playground.datathon.drivers",
   "execution_count": null,
   "outputs": []
  },
  {
   "cell_type": "code",
   "id": "74ae710b-304f-49ad-8630-086d4f290886",
   "metadata": {
    "language": "sql",
    "name": "races"
   },
   "outputs": [],
   "source": "select * from playground.datathon.races",
   "execution_count": null
  },
  {
   "cell_type": "code",
   "id": "b2fe2a92-dd0e-4f64-8df7-a61696263940",
   "metadata": {
    "language": "sql",
    "name": "constructors"
   },
   "outputs": [],
   "source": "select * from playground.datathon.constructors",
   "execution_count": null
  },
  {
   "cell_type": "code",
   "id": "718a9a35-496c-4fdb-b332-e4e93812244a",
   "metadata": {
    "language": "sql",
    "name": "lap_times"
   },
   "outputs": [],
   "source": "select * from playground.datathon.lap_times",
   "execution_count": null
  },
  {
   "cell_type": "code",
   "id": "ee4993d9-9fb8-44e1-942f-4f22d797f807",
   "metadata": {
    "language": "sql",
    "name": "qualifying"
   },
   "outputs": [],
   "source": "select * from playground.datathon.qualifying",
   "execution_count": null
  },
  {
   "cell_type": "code",
   "id": "91f9259c-1692-4d6a-8828-3fefff03e69e",
   "metadata": {
    "language": "sql",
    "name": "raw_race_data"
   },
   "outputs": [],
   "source": "SELECT *\nFROM PLAYGROUND.DATATHON.RESULTS rs\nleft join playground.datathon.RACES rc on rs.raceid = rc.raceid\n--left join playground.datathon.status s on rs.statusid = s.statusid\nleft join playground.datathon.constructors c on rs.constructorid = c.constructorid\nleft join playground.datathon.drivers d on rs.driverid = d.driverid\n",
   "execution_count": null
  },
  {
   "cell_type": "markdown",
   "id": "bdf2740f-37ef-4de6-add2-afad3a22d617",
   "metadata": {
    "name": "cell4",
    "collapsed": false
   },
   "source": "Data Cleaning and pre-processing"
  },
  {
   "cell_type": "code",
   "id": "03aacc3c-24a4-487d-a81f-64c9007c8a3c",
   "metadata": {
    "language": "python",
    "name": "cell3"
   },
   "outputs": [],
   "source": "#Calculate position delta\ndf=raw_race_data.to_pandas()\ndf['position_delta'] = df['GRID'] - pd.to_numeric(df['POSITION'], errors='coerce')\ndf.head(10)\n\n#Handle missing values\ndf= df.dropna(subset=['POSITION'])\ndf.head(10)\n\n",
   "execution_count": null
  },
  {
   "cell_type": "markdown",
   "id": "53a22b27-98d8-4a33-b6a3-86c5dfc6ccc4",
   "metadata": {
    "name": "cell6",
    "collapsed": false
   },
   "source": "Visual EDA"
  },
  {
   "cell_type": "code",
   "id": "ad6f2eb9-5ce3-4e10-b131-260f139cccb4",
   "metadata": {
    "language": "python",
    "name": "cell8"
   },
   "outputs": [],
   "source": "import seaborn as sns\nimport matplotlib.pyplot as plt\n\nsns.boxplot(\n    x='NAME_1',\n    y='position_delta',\n    data=df[df['NAME_1'].isin(['Mercedes','Red Bull'])]\n)\nplt.title('GRID vs FINISH POSITION : Mercedes vs Redbull')\nplt.show()",
   "execution_count": null
  },
  {
   "cell_type": "markdown",
   "id": "57be1d4e-5c52-4427-bef1-94266da0a8a1",
   "metadata": {
    "name": "cell5",
    "collapsed": false
   },
   "source": "Correlation Model - Random Forest"
  },
  {
   "cell_type": "code",
   "id": "61dbae3e-4317-45e0-81c3-9717bfb02e92",
   "metadata": {
    "language": "python",
    "name": "cell2"
   },
   "outputs": [],
   "source": "from sklearn.ensemble import RandomForestRegressor\nfrom sklearn.model_selection import train_test_split\nfrom sklearn.metrics import mean_squared_error\nimport numpy as np\n\nfeatures=['GRID','POINTS','LAPS']\ndf=df.dropna(subset=features)\nX=df[features]\ny=df['POSITION'].astype(int)\nX_train,X_test,y_train,y_test = train_test_split(X,y,test_size=0.2)\nmodel=RandomForestRegressor()\nmodel.fit(X_train,y_train)\n\n\n#print(\"RMSE:\", mean_squared_error(y_test, model.predict(X_test), squared=False))\n\nrmse = np.sqrt(mean_squared_error(y_test, model.predict(X_test)))\nprint(\"RMSE:\", rmse)\n",
   "execution_count": null
  },
  {
   "cell_type": "markdown",
   "id": "810544dc-5a26-457e-98fe-1a6a767af575",
   "metadata": {
    "name": "cell9",
    "collapsed": false
   },
   "source": ""
  }
 ]
}