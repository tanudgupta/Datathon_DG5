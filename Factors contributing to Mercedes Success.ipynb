{
 "metadata": {
  "kernelspec": {
   "display_name": "Streamlit Notebook",
   "name": "streamlit"
  },
  "lastEditStatus": {
   "notebookId": "a7dhln5h4ylmwsnqoybq",
   "authorId": "6276428134692",
   "authorName": "TANU_D_GUPTA",
   "authorEmail": "",
   "sessionId": "f447bbfc-8107-4c59-9f55-42b3bc9041bb",
   "lastEditTime": 1751064269413
  }
 },
 "nbformat_minor": 5,
 "nbformat": 4,
 "cells": [
  {
   "cell_type": "code",
   "id": "3775908f-ca36-4846-8f38-5adca39217f2",
   "metadata": {
    "language": "python",
    "name": "cell1"
   },
   "source": "# Import python packages\nimport streamlit as st\nimport pandas as pd\n\n# We can also use Snowpark for our analyses!\nfrom snowflake.snowpark.context import get_active_session\nsession = get_active_session()\n\nimport pandas as pd\n#import matplotlib.pyplot as plt\nimport seaborn as sns",
   "execution_count": null,
   "outputs": []
  },
  {
   "cell_type": "code",
   "id": "8d50cbf4-0c8d-4950-86cb-114990437ac9",
   "metadata": {
    "language": "sql",
    "name": "results"
   },
   "source": "SELECT *,concat(d.forename,' ',d.surname) as driver\nFROM PLAYGROUND.DATATHON.RESULTS rs\nleft join playground.datathon.RACES rc on rs.raceid = rc.raceid\n--left join playground.datathon.status s on rs.statusid = s.statusid\nleft join playground.datathon.constructors c on rs.constructorid = c.constructorid\nleft join playground.datathon.drivers d on rs.driverid = d.driverid\nleft join playground.datathon.qualifying q on q.raceid = rc.raceid and q.driverid = rs.driverid\nwhere \n--rc.year = '2024' and \nc.name in ('Mercedes')\n",
   "execution_count": null,
   "outputs": []
  },
  {
   "cell_type": "code",
   "id": "c695373e-ac74-4b62-a1f1-08206cbd5c81",
   "metadata": {
    "language": "python",
    "name": "cell3"
   },
   "source": "#Exploratory Analysis\n\ndf=results.to_pandas()\n\ndef time_to_milliseconds(time_str):\n    if pd.isnull(time_str):  # Handles NaN\n        return None\n    if isinstance(time_str, str):\n        try:\n            minutes, seconds = time_str.split(':')\n            total_ms = (int(minutes) * 60 + float(seconds)) * 1000\n            return int(total_ms)\n        except ValueError:\n            return None  # If split fails or conversion fails\n    return None  # Not a string\n\ndf['q3_time']=df['Q3'].apply(time_to_milliseconds)\ndf= df.dropna(subset=['POSITION'])\n\n#df['q3_time']=pd.to_numeric(df['Q3'], errors='coerce')\ndf['grid']=df['GRID'].astype(int)\ndf['finish']=df['POSITION'].astype(int)\ndf['qual_dif']=df['grid']-df['finish']\ndf['points']=df['POINTS'].astype(float)\n\nsummary = df[['DRIVER','GRID','finish','q3_time','points']].describe()\nprint(summary)",
   "execution_count": null,
   "outputs": []
  },
  {
   "cell_type": "code",
   "id": "d6df7ff6-c060-4363-b394-8a7fccb726c8",
   "metadata": {
    "language": "python",
    "name": "cell2"
   },
   "outputs": [],
   "source": "#Coorelation and predictive model\n\nfrom sklearn.ensemble import RandomForestRegressor\nfrom sklearn.model_selection import train_test_split\nfrom sklearn.metrics import r2_score\nfrom sklearn.metrics import mean_absolute_error\n\n# Prepare dataset (drop NAs)\n\n\ndef time_to_milliseconds(time_str):\n    if pd.isnull(time_str):  # Handles NaN\n        return None\n    if isinstance(time_str, str):\n        try:\n            minutes, seconds = time_str.split(':')\n            total_ms = (int(minutes) * 60 + float(seconds)) * 1000\n            return int(total_ms)\n        except ValueError:\n            return None  # If split fails or conversion fails\n    return None  # Not a string\n    \ndf=results.to_pandas()\n\ndf= df.dropna(subset=['POSITION'])\ndf['q3_time']=df['Q3'].apply(time_to_milliseconds)\ndf['grid']=df['GRID'].astype(int)\ndf['finish']=df['POSITION'].astype(int)\n\n\n\ndf = df.dropna(subset=['q3_time', 'grid', 'finish'])\nX = df[['q3_time', 'grid']]\ny = df['finish']\n\n\n\n# Train/test split\nX_train, X_test, y_train, y_test = train_test_split(X, y, test_size=0.3, random_state=42)\n\n# Train model\nmodel = RandomForestRegressor(n_estimators=100, random_state=42)\nmodel.fit(X_train, y_train)\n\n# Evaluate and predict\ny_pred = model.predict(X_test)\nr2 = r2_score(y_test, y_pred)\nprint(f\"R² Score: {r2:.2f}\")\n\n#Mean absolute error\nprint(\"MAE : \", mean_absolute_error(y_test,y_pred))\n\n",
   "execution_count": null
  }
 ]
}