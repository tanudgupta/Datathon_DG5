{
 "metadata": {
  "kernelspec": {
   "display_name": "Streamlit Notebook",
   "name": "streamlit"
  },
  "lastEditStatus": {
   "notebookId": "hueodlvcz7ibze3kmlvm",
   "authorId": "2882325657402",
   "authorName": "TANU_D_GUPTA",
   "authorEmail": "",
   "sessionId": "27dd578e-4cab-426d-a747-dca233857384",
   "lastEditTime": 1750204286459
  }
 },
 "nbformat_minor": 5,
 "nbformat": 4,
 "cells": [
  {
   "cell_type": "code",
   "id": "3775908f-ca36-4846-8f38-5adca39217f2",
   "metadata": {
    "language": "python",
    "name": "cell1"
   },
   "source": "# Import python packages\nimport streamlit as st\nimport pandas as pd\nimport snowflake.snowpark as snowpark\nfrom snowflake.snowpark.functions import col\nimport matplotlib as mp\nimport seaborn as snb\n# We can also use Snowpark for our analyses!\nfrom snowflake.snowpark.context import get_active_session\nsession = get_active_session()\n",
   "execution_count": null,
   "outputs": []
  },
  {
   "cell_type": "code",
   "id": "9808af7d-bad4-401f-b515-943d9edd71c3",
   "metadata": {
    "language": "sql",
    "name": "cell2"
   },
   "outputs": [],
   "source": "-- selecting the data of 2024\nselect rs.resultid, rc.name as racename,concat(d.forename,'',d.surname) as drivername, c.name as constructorname, s.status,rs.*\nfrom \nplayground.datathon.results rs\nleft join playground.datathon.races rc on rs.raceid = rc.raceid\nleft join playground.datathon.drivers d on rs.driverid = d.driverid\nleft join playground.datathon.constructors c on rs.constructorid = c.constructorid\nleft join playground.datathon.status s on rs.statusid = s.statusid\nwhere rc.year = 2024\nand rs.rank <> 0 ",
   "execution_count": null
  },
  {
   "cell_type": "code",
   "id": "872371e6-9836-4628-863a-b8d3842c8dec",
   "metadata": {
    "language": "sql",
    "name": "cell3"
   },
   "outputs": [],
   "source": "-- \nselect rc.name as racename,concat(d.forename,'',d.surname) as drivername, c.name as constructorname, s.status\n,case when rs.grid = rs.position THEN 'No Change' WHEN rs.grid > rs.position THEN 'Forward' ELSE 'Backward' END AS POS_CHANGES\n,rs.grid,rs.position as pos,rs.points pts,rs.laps,rs.milliseconds,rs.rank,rs.fastestlap\n,rs.*\nfrom \nplayground.datathon.results rs\nleft join playground.datathon.races rc on rs.raceid = rc.raceid\nleft join playground.datathon.drivers d on rs.driverid = d.driverid\nleft join playground.datathon.constructors c on rs.constructorid = c.constructorid\nleft join playground.datathon.status s on rs.statusid = s.statusid\nwhere UPPER(s.status) = 'FINISHED'\n--and c.name = 'Mercedes'\n--and rc.name = 'Australian Grand Prix'\norder by rs.position\n",
   "execution_count": null
  },
  {
   "cell_type": "code",
   "id": "62f525c4-ea33-43de-ae8b-d6b9a6cba30c",
   "metadata": {
    "language": "sql",
    "name": "cell4"
   },
   "outputs": [],
   "source": "-- Summary of constructor based on points, number of laps done by each driver\nselect c.name as constructorname,sum(rs.points),SUM(laps),count(d.driverid),\nfrom \nplayground.datathon.results rs\nleft join playground.datathon.races rc on rs.raceid = rc.raceid\nleft join playground.datathon.drivers d on rs.driverid = d.driverid\nleft join playground.datathon.constructors c on rs.constructorid = c.constructorid\nleft join playground.datathon.status s on rs.statusid = s.statusid\nwhere UPPER(s.status) = 'FINISHED'\ngroup by c.name\norder by sum(rs.points) desc",
   "execution_count": null
  },
  {
   "cell_type": "code",
   "id": "7239b765-ff07-4562-888d-00ba510bb375",
   "metadata": {
    "language": "sql",
    "name": "cell12"
   },
   "outputs": [],
   "source": "select rs.resultid, rc.name as racename,concat(d.forename,'',d.surname) as drivername, c.name as constructorname, s.status\n,rs.grid,rs.position as pos ,rs.positiontext as post,rs.positionorder,rs.points,rs.laps,rs.milliseconds,rs.rank,rs.fastestlap\n,rs.*\nfrom \nplayground.datathon.results rs\nleft join playground.datathon.races rc on rs.raceid = rc.raceid\nleft join playground.datathon.drivers d on rs.driverid = d.driverid\nleft join playground.datathon.constructors c on rs.constructorid = c.constructorid\nleft join playground.datathon.status s on rs.statusid = s.statusid\nwhere UPPER(s.status) != 'FINISHED'\nand rs.milliseconds is not null\n--aND RS.POINTS != 0",
   "execution_count": null
  },
  {
   "cell_type": "code",
   "id": "65445615-e391-4e51-84bf-bf102ecc97ba",
   "metadata": {
    "language": "sql",
    "name": "cell13"
   },
   "outputs": [],
   "source": "-- which circuits does Mercedes dominate?\nSELECT  rc.circuitid, cr.name, d.driverid, sum(rs.points) as totalpoints\nFROM \nPLAYGROUND.DATATHON.RESULTS rs \nleft join PLAYGROUND.DATATHON.DRIVERS d on d.driverid = rs.driverid\nleft join PLAYGROUND.DATATHON.constructors c on c.constructorid = rs.constructorid\nleft join PLAYGROUND.datathon.races rc on rc.raceid = rs.raceid\nleft join PLAYGROUND.datathon.circuits cr on rc.circuitid = cr.circuitid\nwhere c.name = 'Mercedes'\nand rc.year = 2024\nand rs.position is not null\n--and rs.position <= 5\ngroup by rc.circuitid, cr.name,d.driverid\norder by sum(rs.points) desc\n\n",
   "execution_count": null
  },
  {
   "cell_type": "code",
   "id": "6ee30ad6-8050-48ce-aaed-dc96953632ec",
   "metadata": {
    "language": "sql",
    "name": "cell15"
   },
   "outputs": [],
   "source": "-- Which circuits does Mercedes dominate in 2024?\n\nSELECT  cr.name as Circuit, concat(d.forename,' ',d.surname) as Driver --,rc.raceid\n, min(position) top_position\nFROM \nPLAYGROUND.DATATHON.RESULTS rs \nleft join PLAYGROUND.DATATHON.DRIVERS d on d.driverid = rs.driverid\nleft join PLAYGROUND.DATATHON.constructors c on c.constructorid = rs.constructorid\nleft join PLAYGROUND.datathon.races rc on rc.raceid = rs.raceid\nleft join PLAYGROUND.datathon.circuits cr on rc.circuitid = cr.circuitid\nwhere c.name = 'Mercedes'\nand rc.year = 2024\nand rs.position is not null\nand rs.position <= 3\ngroup by cr.name,concat(d.forename,' ',d.surname)--,rc.raceid\n--order by sum(rs.points) desc",
   "execution_count": null
  },
  {
   "cell_type": "code",
   "id": "50c6f151-8a7f-4681-9e8a-466a9671d2b8",
   "metadata": {
    "language": "sql",
    "name": "cell16"
   },
   "outputs": [],
   "source": "-- Who gains the most positions after qualifying?\n\nselect  concat(d.forename,' ',d.surname) as Driver, max(rs.grid - NVL(rs.position,99)) as POS_GAINED\nfrom PLAYGROUND.datathon.results rs \njoin  PLAYGROUND.datathon.qualifying q on rs.driverid = q.driverid \nleft join PLAYGROUND.DATATHON.DRIVERS d on d.driverid = rs.driverid\nleft join PLAYGROUND.datathon.races rc on rc.raceid = rs.raceid\nwhere \nrc.year = 2024\ngroup by concat(d.forename,' ',d.surname)\n--order by max(rs.grid - NVL(rs.position,99)) desc\n",
   "execution_count": null
  },
  {
   "cell_type": "code",
   "id": "5cf68cfb-c423-4c5a-b948-80b12042f676",
   "metadata": {
    "language": "sql",
    "name": "cell17"
   },
   "outputs": [],
   "source": "--pit_stops.csv — Strategy in Seconds\n\nselect avg(ps.milliseconds) as Average_PitStop_Time_MS,concat(d.forename,' ',d.surname) as Driver,c.name as Constructor\nfrom\nPLAYGROUND.DATATHON.PIT_STOPS ps \nleft join PLAYGROUND.DATATHON.drivers d on ps.driverid = d.driverid\nleft join PLAYGROUND.DATATHON.results rs on rs.driverid = d.driverid\nleft join PLAYGROUND.DATATHON.constructors c on rs.constructorid = c.constructorid\ngroup by concat(d.forename,' ',d.surname),c.name\norder by avg(ps.milliseconds) desc",
   "execution_count": null
  },
  {
   "cell_type": "code",
   "id": "85acd6c3-a017-4ed6-9ab2-c8623f35640b",
   "metadata": {
    "language": "sql",
    "name": "cell18"
   },
   "outputs": [],
   "source": "--lap_times.csv — Micro-level Performance\n\nselect avg(lt.milliseconds) as AVG_LAP_TIME_MS, concat(d.forename,'',d.surname) as driver, c.name as constructor\nfrom\nPLAYGROUND.DATATHON.lap_times lt \nleft join PLAYGROUND.DATATHON.drivers d on lt.driverid = d.driverid\nleft join PLAYGROUND.DATATHON.results rs on rs.driverid = d.driverid\nleft join PLAYGROUND.DATATHON.constructors c on rs.constructorid = c.constructorid\ngroup by concat(d.forename,'',d.surname),c.name\norder by avg(lt.milliseconds) ",
   "execution_count": null
  },
  {
   "cell_type": "code",
   "id": "707f8baa-9fda-4172-ba62-2dd2b315e047",
   "metadata": {
    "language": "python",
    "name": "cell14"
   },
   "outputs": [],
   "source": "# Then, we can use the python name to turn cell2 into a Pandas dataframe\nmy_df = cell13.to_pandas()\n\n# Chart the data\nst.subheader(\"Chance\")\nst.line_chart(my_df, x='YEAR', y='ROUND')\n\n# Give it a go!\nst.subheader(\"Try it out yourself and show off your skills 🥇\")",
   "execution_count": null
  },
  {
   "cell_type": "code",
   "id": "8e9f4849-c9b5-4143-9ad3-29e11e7ddfb8",
   "metadata": {
    "language": "python",
    "name": "cell11"
   },
   "outputs": [],
   "source": "# The Snowpark package is required for Python Worksheets. \n# You can add more packages by selecting them using the Packages control and then importing them.\n\n\n\ndef main(session: snowpark.Session):    \n  #  session.use_database(\"EVENT\")\n    \n    # Your code goes here, inside the \"main\" handler.\n  #  tableName = 'information_schema.packages'\n   # dataframe = session.table(tableName).filter(col(\"language\") == 'python')\n\n  # EVENT.DATATHON_2025_TEAM_EPSILON.RESULTS_NEW\n    \n    tableName = 'PLAYGROUND.DATATHON.RESULTS'\n    dataframe = session.table(tableName).filter(col(\"rank\") != 0)\n\n    dataframe.show()\n\n    # Return value will appear in the Results tab.\n  #  return dataframe\n\n    \n    tableName2 = 'EVENT.DATATHON_2025_TEAM_EPSILON.RESULTS_NEW'\n    dataframe2 = session.table(tableName2)\n\n    dataframe2.show()\n\n    # Return value will appear in the Results tab.\n    return dataframe2\n\n    \n ",
   "execution_count": null
  },
  {
   "cell_type": "code",
   "id": "9ca96341-156c-457c-89ec-8dbf8017cfa2",
   "metadata": {
    "language": "python",
    "name": "cell10"
   },
   "outputs": [],
   "source": "",
   "execution_count": null
  },
  {
   "cell_type": "code",
   "id": "7de548da-6b4c-4191-b9b7-0795726c13eb",
   "metadata": {
    "language": "python",
    "name": "cell9"
   },
   "outputs": [],
   "source": "",
   "execution_count": null
  },
  {
   "cell_type": "code",
   "id": "a7d1b8cc-b095-487c-8620-c2b8d5b46cb7",
   "metadata": {
    "language": "python",
    "name": "cell8"
   },
   "outputs": [],
   "source": "",
   "execution_count": null
  },
  {
   "cell_type": "code",
   "id": "e9ec1d41-0470-464a-b43e-b7f6685da805",
   "metadata": {
    "language": "python",
    "name": "cell7"
   },
   "outputs": [],
   "source": "",
   "execution_count": null
  },
  {
   "cell_type": "code",
   "id": "858678bb-ba4e-4049-bce6-bc50479c8571",
   "metadata": {
    "language": "python",
    "name": "cell6"
   },
   "outputs": [],
   "source": "",
   "execution_count": null
  },
  {
   "cell_type": "code",
   "id": "cc28100d-4309-44c2-b03f-3fd3aa7656d8",
   "metadata": {
    "language": "python",
    "name": "cell5"
   },
   "outputs": [],
   "source": "",
   "execution_count": null
  },
  {
   "cell_type": "code",
   "id": "8d50cbf4-0c8d-4950-86cb-114990437ac9",
   "metadata": {
    "language": "sql",
    "name": "ex1"
   },
   "source": "-- Welcome to Snowflake Notebooks!\n-- Try out a SQL cell to generate some data.\nSELECT 'FRIDAY' as SNOWDAY, 0.2 as CHANCE_OF_SNOW\nUNION ALL\nSELECT 'SATURDAY',0.5\nUNION ALL \nSELECT 'SUNDAY', 0.9;",
   "execution_count": null,
   "outputs": []
  },
  {
   "cell_type": "code",
   "id": "c695373e-ac74-4b62-a1f1-08206cbd5c81",
   "metadata": {
    "language": "python",
    "name": "ex2"
   },
   "source": "# Then, we can use the python name to turn cell2 into a Pandas dataframe\nmy_df = cell2.to_pandas()\n\n# Chart the data\nst.subheader(\"Chance of SNOW ❄️\")\nst.line_chart(my_df, x='SNOWDAY', y='CHANCE_OF_SNOW')\n\n# Give it a go!\nst.subheader(\"Try it out yourself and show off your skills 🥇\")",
   "execution_count": null,
   "outputs": []
  }
 ]
}